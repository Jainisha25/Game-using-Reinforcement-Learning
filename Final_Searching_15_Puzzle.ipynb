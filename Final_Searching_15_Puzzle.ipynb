{
  "metadata": {
    "accelerator": "GPU",
    "kernelspec": {
      "name": "python3",
      "display_name": "Python 3",
      "language": "python"
    },
    "language_info": {
      "name": "python",
      "version": "3.10.12",
      "mimetype": "text/x-python",
      "codemirror_mode": {
        "name": "ipython",
        "version": 3
      },
      "pygments_lexer": "ipython3",
      "nbconvert_exporter": "python",
      "file_extension": ".py"
    },
    "colab": {
      "provenance": []
    }
  },
  "nbformat_minor": 0,
  "nbformat": 4,
  "cells": [
    {
      "cell_type": "markdown",
      "source": [
        "## Setup"
      ],
      "metadata": {
        "id": "Bkm-I-6R8P_T"
      }
    },
    {
      "cell_type": "code",
      "source": [
        "class TrainConfig:\n",
        "    max_depth = 80                          # God's Number\n",
        "    batch_size_per_depth = 1000\n",
        "    num_steps = 1000\n",
        "    learning_rate = 1e-3\n",
        "    INTERVAL_PLOT, INTERVAL_SAVE = 100, 1000\n",
        "    ENABLE_FP16 = False                     # Set this to True if you want to train the model faster\n",
        "\n",
        "class SearchConfig:\n",
        "    beam_width = 2**11                      # This controls the trade-off between time and optimality\n",
        "    max_depth = TrainConfig.max_depth * 2   # Any number above God's Number will do\n",
        "    ENABLE_FP16 = False                     # Set this to True if you want to solve faster"
      ],
      "metadata": {
        "id": "ulKBzxdfwHks",
        "trusted": true
      },
      "execution_count": null,
      "outputs": []
    },
    {
      "cell_type": "code",
      "source": [
        "# from tqdm import tqdm\n",
        "# import time\n",
        "\n",
        "# # Example loop with tqdm\n",
        "# for i in tqdm(range(10)):\n",
        "#     # Simulate some work\n",
        "#     time.sleep(0.1)\n",
        "\n",
        "# # Alternatively, you can use tqdm with any iterable\n",
        "# my_list = [1, 2, 3, 4, 5]\n",
        "# for item in tqdm(my_list, desc=\"Processing items\"):\n",
        "#     # Do some processing on each item\n",
        "#     time.sleep(0.2)\n"
      ],
      "metadata": {
        "id": "pFJCC46gHKjY"
      },
      "execution_count": null,
      "outputs": []
    },
    {
      "cell_type": "code",
      "source": [
        "import os\n",
        "import time\n",
        "import random\n",
        "import pickle\n",
        "import numpy as np\n",
        "from copy import deepcopy\n",
        "from contextlib import nullcontext\n",
        "from tqdm import tqdm, trange\n",
        "\n",
        "import matplotlib.pyplot as plt\n",
        "from IPython.display import clear_output\n",
        "\n",
        "import torch\n",
        "from torch import nn\n",
        "device = torch.device('cuda' if torch.cuda.is_available() else 'cpu')\n",
        "\n",
        "print(f'device: {device}')\n",
        "print(f'os.cpu_count(): {os.cpu_count()}')\n",
        "!nvidia-smi -L"
      ],
      "metadata": {
        "id": "nF5FQBsiZxPB",
        "outputId": "2e0c68c2-e9a3-4a4f-a793-7b84582834a1",
        "trusted": true,
        "colab": {
          "base_uri": "https://localhost:8080/"
        }
      },
      "execution_count": null,
      "outputs": [
        {
          "output_type": "stream",
          "name": "stdout",
          "text": [
            "device: cuda\n",
            "os.cpu_count(): 2\n",
            "GPU 0: Tesla T4 (UUID: GPU-f4cd7cff-9437-1143-5b6f-c1d6c7847aa5)\n"
          ]
        }
      ]
    },
    {
      "cell_type": "markdown",
      "source": [
        "## Environment\n",
        "15 Puzzle is ..."
      ],
      "metadata": {
        "id": "2bYs2VICZxdg"
      }
    },
    {
      "cell_type": "code",
      "source": [
        "class Puzzle15:\n",
        "    def __init__(self):\n",
        "        self.DTYPE = np.int64\n",
        "\n",
        "        # define state and goal\n",
        "        self.reset() # state\n",
        "        self.goal = np.concatenate((np.arange(1, 4 * 4, dtype=self.DTYPE), [0])) #Array of 1 to 16 16 as 0\n",
        "\n",
        "        self.moves = ['U', 'D', 'L', 'R']\n",
        "        self.moves_inference = ['D','U','R','L']\n",
        "\n",
        "        # opposite faces\n",
        "        self.pairing = {\n",
        "            'R':'L',\n",
        "            'L':'R',\n",
        "            'U':'D',\n",
        "            'D':'U',\n",
        "        }\n",
        "        self.moves_available_after = {\n",
        "            m:[v for v in self.moves if v!=self.pairing[m]] for m in self.moves\n",
        "        }\n",
        "\n",
        "        # [OPTIMIZATION] slicing by move string => indices\n",
        "        self.moves_ix = [self.moves.index(m) for m in self.moves]\n",
        "        self.moves_ix_available_after = {\n",
        "            self.moves.index(m): [self.moves.index(m) for m in available_moves]\n",
        "            for m, available_moves in self.moves_available_after.items()\n",
        "        }\n",
        "        self.moves_ix_inference = [self.moves.index(m) for m in self.moves_inference]\n",
        "        self.pairing_ix = {\n",
        "            0:1,\n",
        "            1:0,\n",
        "            2:3,\n",
        "            3:2\n",
        "        }\n",
        "\n",
        "        # vectorize the sticker group replacement operations\n",
        "        self.__vectorize_moves()\n",
        "\n",
        "    def reset(self):\n",
        "        self.state = np.concatenate((np.arange(1, 4 * 4, dtype=self.DTYPE), [0]))\n",
        "\n",
        "    def is_solved(self):\n",
        "        return np.all(self.state == self.goal)\n",
        "\n",
        "    def finger(self, move):\n",
        "        if isinstance(move, str):\n",
        "            move = self.moves.index(move)\n",
        "        self.finger_ix(move)\n",
        "\n",
        "    def finger_ix(self, move):\n",
        "        # [target] empty slot\n",
        "        target_index = np.squeeze(np.where(self.state == 0))\n",
        "        # [source] to-be empty slot\n",
        "        source_index = self.swap_zeros[target_index, move] # `self.swap_zeros`: defined in `__vectorize_moves`\n",
        "        # Swap.\n",
        "        self.state[target_index], self.state[source_index] = self.state[source_index], 0\n",
        "\n",
        "    def apply_scramble(self, scramble):\n",
        "        if isinstance(scramble, str):\n",
        "            scramble = scramble.split()\n",
        "        for m in scramble:\n",
        "            self.finger(m)\n",
        "\n",
        "    def scrambler(self, scramble_length):\n",
        "        \"\"\"\n",
        "            A generator function yielding the state and scramble\n",
        "        \"\"\"\n",
        "        while True:\n",
        "            # reset the self.state, scramble, and retun self.state and scramble moves\n",
        "            self.reset()\n",
        "            scramble = []\n",
        "            for i in range(scramble_length):\n",
        "                target_loc = np.where(self.state.reshape(4, 4) == 0)\n",
        "                for _ in iter(int,1):\n",
        "                    if scramble:    # [2nd~ move]\n",
        "                        move = random.choice(self.moves_ix_available_after[scramble[-1]])\n",
        "                    else:           # [1st move]\n",
        "                        move = random.choice(self.moves_ix)\n",
        "                    \"\"\"\n",
        "                    index_map:\n",
        "                        [ 0  1  2  3]\n",
        "                        [ 4  5  6  7]\n",
        "                        [ 8  9 10 11]\n",
        "                        [12 13 14 15]\n",
        "                    \"\"\"\n",
        "                    # Skip ineffective moves\n",
        "                    if move==3: # if move==\"R\"\n",
        "                        if target_loc[1]:\n",
        "                            # zero_index NOT on the left\n",
        "                            break\n",
        "                    elif move==1: # if move==\"D\"\n",
        "                        if target_loc[0]:\n",
        "                            # zero_index NOT be at the top\n",
        "                            break\n",
        "                    elif move==0: # if move==\"U\"\n",
        "                        if target_loc[0]!=4-1:\n",
        "                            # zero_index NOT on the left\n",
        "                            break\n",
        "                    elif move==2: # if move==\"L\"\n",
        "                        if target_loc[1]!=4-1:\n",
        "                            # zero_index NOT on the left\n",
        "                            break\n",
        "                    else:\n",
        "                        raise ValueError(\"Unexpected move index.\")\n",
        "\n",
        "                self.finger_ix(move)\n",
        "                scramble.append(move)\n",
        "                yield self.state, move\n",
        "\n",
        "    def __vectorize_moves(self):\n",
        "        # Code retrieved & modified from:\n",
        "        # https://github.com/forestagostinelli/DeepCubeA/blob/f75918a5fb83c140b649ee634f765d42845b17a3/environments/n_puzzle.py#L174\n",
        "        self.swap_zeros = np.zeros((4*4, len(self.moves)), dtype=self.DTYPE)\n",
        "        for move_ix, move in enumerate(self.moves):\n",
        "            for i in range(4):\n",
        "                for j in range(4):\n",
        "                    z_idx = np.ravel_multi_index((i, j), (4, 4))\n",
        "                    state = np.ones((4, 4), dtype=np.int64)\n",
        "                    state[i, j] = 0\n",
        "\n",
        "                    is_eligible = False\n",
        "                    if move == 'U':\n",
        "                        is_eligible = i < (4 - 1)\n",
        "                    elif move == 'D':\n",
        "                        is_eligible = i > 0\n",
        "                    elif move == 'L':\n",
        "                        is_eligible = j < (4 - 1)\n",
        "                    elif move == 'R':\n",
        "                        is_eligible = j > 0\n",
        "\n",
        "                    if is_eligible:\n",
        "                        swap_i, swap_j = -1, -1\n",
        "                        if move == 'U':\n",
        "                            swap_i = i + 1\n",
        "                            swap_j = j\n",
        "                        elif move == 'D':\n",
        "                            swap_i = i - 1\n",
        "                            swap_j = j\n",
        "                        elif move == 'L':\n",
        "                            swap_i = i\n",
        "                            swap_j = j + 1\n",
        "                        elif move == 'R':\n",
        "                            swap_i = i\n",
        "                            swap_j = j - 1\n",
        "\n",
        "                        self.swap_zeros[z_idx, move_ix] = np.ravel_multi_index((swap_i, swap_j), (4, 4))\n",
        "                    else:\n",
        "                        self.swap_zeros[z_idx, move_ix] = z_idx\n",
        "\n",
        "env = Puzzle15()"
      ],
      "metadata": {
        "id": "hpNdTOHctDxT",
        "trusted": true
      },
      "execution_count": null,
      "outputs": []
    },
    {
      "cell_type": "markdown",
      "source": [
        "## Model"
      ],
      "metadata": {
        "id": "aJFeXe-za8oL"
      }
    },
    {
      "cell_type": "code",
      "source": [
        "class LinearBlock(nn.Module):\n",
        "    \"\"\"\n",
        "    Linear layer with ReLU and BatchNorm\n",
        "    \"\"\"\n",
        "    def __init__(self, input_prev, embed_dim):\n",
        "        super(LinearBlock, self).__init__()\n",
        "        self.fc = nn.Linear(input_prev, embed_dim)\n",
        "        self.relu = nn.ReLU()\n",
        "        self.bn = nn.BatchNorm1d(embed_dim)\n",
        "\n",
        "    def forward(self, inputs):\n",
        "        x = inputs\n",
        "        x = self.fc(x)\n",
        "        x = self.relu(x)\n",
        "        x = self.bn(x)\n",
        "        return x\n",
        "\n",
        "class ResidualBlock(nn.Module):\n",
        "    \"\"\"\n",
        "    Residual block with two linear layers\n",
        "    \"\"\"\n",
        "    def __init__(self, embed_dim):\n",
        "        super(ResidualBlock, self).__init__()\n",
        "        self.layers = nn.ModuleList([\n",
        "            LinearBlock(embed_dim, embed_dim),\n",
        "            LinearBlock(embed_dim, embed_dim)\n",
        "        ])\n",
        "\n",
        "    def forward(self, inputs):\n",
        "        x = inputs\n",
        "        for layer in self.layers:\n",
        "            x = layer(x)\n",
        "        x += inputs # skip-connection\n",
        "        return x\n",
        "\n",
        "class Model(nn.Module):\n",
        "\n",
        "    def __init__(self, input_dim=16**2, output_dim=len(env.moves)):\n",
        "        super(Model, self).__init__()\n",
        "        self.input_dim = input_dim\n",
        "        self.embedding = LinearBlock(input_dim, 5000)\n",
        "        self.layers = nn.ModuleList([\n",
        "            LinearBlock(5000,1000),\n",
        "            ResidualBlock(1000),\n",
        "            ResidualBlock(1000),\n",
        "            ResidualBlock(1000),\n",
        "            ResidualBlock(1000)\n",
        "        ])\n",
        "        self.output = nn.Linear(1000, output_dim)\n",
        "\n",
        "    def forward(self, inputs):\n",
        "        # int indices => float one-hot vectors\n",
        "        x = nn.functional.one_hot(inputs, num_classes=16).to(torch.float)\n",
        "        x = x.reshape(-1, self.input_dim)\n",
        "        x = self.embedding(x)\n",
        "        for layer in self.layers:\n",
        "            x = layer(x)\n",
        "        logits = self.output(x)\n",
        "        return logits\n",
        "\n",
        "model = Model().to(device)"
      ],
      "metadata": {
        "id": "3KLXLktpwrAj",
        "trusted": true
      },
      "execution_count": null,
      "outputs": []
    },
    {
      "cell_type": "markdown",
      "source": [
        "## Training"
      ],
      "metadata": {
        "id": "gv617n3MbSdO"
      }
    },
    {
      "cell_type": "code",
      "source": [
        "class ScrambleGenerator(torch.utils.data.Dataset):\n",
        "    def __init__(\n",
        "            self,\n",
        "            num_workers=os.cpu_count(),\n",
        "            max_depth=TrainConfig.max_depth,\n",
        "            total_samples=TrainConfig.num_steps*TrainConfig.batch_size_per_depth\n",
        "        ):\n",
        "        self.num_workers = num_workers\n",
        "        self.max_depth = max_depth\n",
        "        self.envs = [Puzzle15() for _ in range(num_workers)]\n",
        "        self.generators = [env.scrambler(self.max_depth) for env in self.envs]\n",
        "\n",
        "        self.total_samples = total_samples\n",
        "\n",
        "    def __len__(self):\n",
        "        return self.total_samples\n",
        "\n",
        "    def __getitem__(self, i):\n",
        "        'generate one scramble, consisting of `self.max_depth` data points'\n",
        "        worker_idx = i % self.num_workers\n",
        "        X = np.zeros((self.max_depth, 16), dtype=int)\n",
        "        y = np.zeros((self.max_depth,), dtype=int)\n",
        "        for j in range(self.max_depth):\n",
        "            state, last_move = next(self.generators[worker_idx])\n",
        "            X[j, :] = state\n",
        "            y[j] = last_move\n",
        "        return X, y\n",
        "\n",
        "dataloader = torch.utils.data.DataLoader(\n",
        "    ScrambleGenerator(),\n",
        "    num_workers=os.cpu_count(),\n",
        "    batch_size=TrainConfig.batch_size_per_depth\n",
        ")"
      ],
      "metadata": {
        "id": "C8845Zz4E5Sw",
        "trusted": true
      },
      "execution_count": null,
      "outputs": []
    },
    {
      "cell_type": "code",
      "source": [
        "def plot_loss_curve(h):\n",
        "    fig, ax = plt.subplots(1, 1)\n",
        "    ax.plot(h)\n",
        "    ax.set_xlabel(\"Steps\")\n",
        "    ax.set_ylabel(\"Cross-entropy loss\")\n",
        "    ax.set_xscale(\"log\")\n",
        "    ax.set_ylim(top=3.) # prevent initial high loss values from dominating the plot\n",
        "    plt.show()\n",
        "\n",
        "def train(model, dataloader):\n",
        "    model.train()\n",
        "    loss_fn = nn.CrossEntropyLoss()\n",
        "    optimizer = torch.optim.Adam(model.parameters(), lr=TrainConfig.learning_rate)\n",
        "    g = iter(dataloader)\n",
        "    h = []\n",
        "    ctx = torch.cuda.amp.autocast(dtype=torch.float16) if TrainConfig.ENABLE_FP16 else nullcontext()\n",
        "\n",
        "    for i in trange(1, TrainConfig.num_steps + 1, smoothing=0):\n",
        "        batch_x, batch_y = next(g)\n",
        "        batch_x, batch_y = batch_x.reshape(-1, 16).to(device), batch_y.reshape(-1).to(device)\n",
        "\n",
        "        with ctx:\n",
        "            pred_y = model(batch_x)\n",
        "            loss = loss_fn(pred_y, batch_y)\n",
        "        optimizer.zero_grad()\n",
        "        loss.backward()\n",
        "        optimizer.step()\n",
        "\n",
        "        h.append(loss.item())\n",
        "        if TrainConfig.INTERVAL_PLOT and i % TrainConfig.INTERVAL_PLOT == 0:\n",
        "            clear_output()\n",
        "            plot_loss_curve(h)\n",
        "        if TrainConfig.INTERVAL_SAVE and i % TrainConfig.INTERVAL_SAVE == 0:\n",
        "            torch.save(model.state_dict(), f\"{i}steps.pth\")\n",
        "            print(\"Model saved.\")\n",
        "    print(f\"Trained on data equivalent to {TrainConfig.batch_size_per_depth * TrainConfig.num_steps} solves.\")\n",
        "    return model\n",
        "\n",
        "model = train(model, dataloader)"
      ],
      "metadata": {
        "id": "9YSxZ1Rs61Nm",
        "outputId": "592bd1ef-f55c-416f-b095-a64eab2bd575",
        "trusted": true,
        "colab": {
          "base_uri": "https://localhost:8080/",
          "height": 476
        }
      },
      "execution_count": null,
      "outputs": [
        {
          "output_type": "display_data",
          "data": {
            "text/plain": [
              "<Figure size 640x480 with 1 Axes>"
            ],
            "image/png": "[encoded data removed]"
          },
          "metadata": {}
        },
        {
          "output_type": "stream",
          "name": "stderr",
          "text": [
            " 66%|██████▌   | 662/1000 [22:44<11:36,  2.06s/it]"
          ]
        }
      ]
    },
    {
      "cell_type": "markdown",
      "source": [
        "## Inference\n",
        "\n",
        "We test and compare on the DeepCubeA dataset"
      ],
      "metadata": {
        "id": "slgl-ZobeqfU"
      }
    },
    {
      "cell_type": "markdown",
      "source": [
        "### Dataset: DeepCubeA\n",
        "\n",
        "Downloading from GitHub"
      ],
      "metadata": {
        "id": "TM9TBcgGIglD"
      }
    },
    {
      "cell_type": "code",
      "source": [
        "if \"DeepCubeA\"!=os.getcwd().split(\"/\")[-1]:\n",
        "    if not os.path.exists('DeepCubeA'):\n",
        "        !git clone -q https://github.com/forestagostinelli/DeepCubeA\n",
        "    %cd ./DeepCubeA/\n",
        "\n",
        "print('### Optimal Solver ###')\n",
        "filename = 'data/puzzle15/test/data_0.pkl'\n",
        "with open(filename, 'rb') as f:\n",
        "    result_Optimal = pickle.load(f)\n",
        "\n",
        "    print(result_Optimal.keys())\n",
        "    result_Optimal[\"solution_lengths\"] = [len(s) for s in result_Optimal[\"solutions\"]]\n",
        "    result_Optimal[\"solution_lengths_count\"] = {\n",
        "        i: result_Optimal[\"solution_lengths\"].count(i)\n",
        "        for i in range(min(result_Optimal[\"solution_lengths\"]), max(result_Optimal[\"solution_lengths\"]))\n",
        "    }\n",
        "\n",
        "    print('No. of cases:', len(result_Optimal[\"solution_lengths\"]))\n",
        "\n",
        "print('\\n### DeepCubeA ###')\n",
        "filename = 'results/puzzle15/results.pkl'\n",
        "with open(filename, 'rb') as f:\n",
        "    result_DeepCubeA = pickle.load(f)\n",
        "\n",
        "    print(result_DeepCubeA.keys())\n",
        "    result_DeepCubeA[\"solution_lengths\"] = [len(s) for s in result_DeepCubeA[\"solutions\"]]\n",
        "    result_DeepCubeA[\"solution_lengths_count\"] = {\n",
        "        i: result_DeepCubeA[\"solution_lengths\"].count(i)\n",
        "        for i in range(min(result_DeepCubeA[\"solution_lengths\"]), max(result_DeepCubeA[\"solution_lengths\"]))\n",
        "    }\n",
        "\n",
        "    print('No. of cases:', len(result_DeepCubeA[\"solution_lengths\"]))\n",
        "\n",
        "%cd ../"
      ],
      "metadata": {
        "id": "NPNMHAr-eess",
        "trusted": true
      },
      "execution_count": null,
      "outputs": []
    },
    {
      "cell_type": "code",
      "source": [
        "# Convert optimal solutions to test scrambles\n",
        "def solution2scramble(solution):\n",
        "    return [env.pairing[m] for m in solution[::-1]]\n",
        "\n",
        "test_scrambles = [solution2scramble(s) for s in result_Optimal[\"solutions\"]]\n",
        "\n",
        "print(f\"\"\"Example:\\n{result_Optimal[\"solutions\"][0]}\\n-> {test_scrambles[0]}\"\"\")"
      ],
      "metadata": {
        "id": "OE78EUviHpzq",
        "trusted": true
      },
      "execution_count": null,
      "outputs": []
    },
    {
      "cell_type": "markdown",
      "source": [
        "### Beam Search"
      ],
      "metadata": {
        "id": "nkzlyw7Ffg36"
      }
    },
    {
      "cell_type": "code",
      "source": [
        "@torch.no_grad()\n",
        "def beam_search(\n",
        "        env,\n",
        "        model,\n",
        "        beam_width=SearchConfig.beam_width,\n",
        "        max_depth=SearchConfig.max_depth,\n",
        "        skip_redundant_moves=True,\n",
        "    ):\n",
        "    \"\"\"\n",
        "    Best-first search algorithm.\n",
        "    Input:\n",
        "        env: A scrambled instance of the given environment.\n",
        "        model: PyTorch model used to predict the next move(s).\n",
        "        beam_width: Number of top solutions to return per depth.\n",
        "        max_depth: Maximum depth of the search tree.\n",
        "        skip_redundant_moves: If True, skip redundant moves.\n",
        "    Output:\n",
        "        if solved successfully:\n",
        "            True, {'solutions':solution path, \"num_nodes_generated\":number of nodes expanded, \"times\":time taken to solve}\n",
        "        else:\n",
        "            False, None\n",
        "    \"\"\"\n",
        "    model.eval()\n",
        "    with torch.cuda.amp.autocast(dtype=torch.float16) if SearchConfig.ENABLE_FP16 else nullcontext():\n",
        "        # metrics\n",
        "        num_nodes_generated, time_0 = 0, time.time()\n",
        "        candidates = [\n",
        "            {\"state\":deepcopy(env.state), \"path\":[], \"value\":1.}\n",
        "        ] # list of dictionaries\n",
        "\n",
        "        for depth in range(max_depth+1):\n",
        "            # TWO things at a time for every candidate: 1. check if solved & 2. add to batch_x\n",
        "            batch_x = np.zeros((len(candidates), env.state.shape[-1]), dtype=np.int64)\n",
        "            for i,c in enumerate(candidates):\n",
        "                c_path, env.state = c[\"path\"], c[\"state\"]\n",
        "                if c_path:\n",
        "                    env.finger_ix(c_path[-1])\n",
        "                    num_nodes_generated += 1\n",
        "                    if env.is_solved():\n",
        "                        # Revert: array of indices => array of notations\n",
        "                        c_path = [str(env.moves[i]) for i in c_path]\n",
        "                        return True, {'solutions':c_path, \"num_nodes_generated\":num_nodes_generated, \"times\":time.time()-time_0}\n",
        "                batch_x[i, :] = env.state\n",
        "\n",
        "            # after checking the nodes expanded at the deepest\n",
        "            if depth==max_depth:\n",
        "                print(\"Solution not found.\")\n",
        "                return False, None\n",
        "\n",
        "            # make predictions with the trained DNN\n",
        "            batch_x = torch.from_numpy(batch_x).to(device)\n",
        "            batch_p = model(batch_x)\n",
        "            batch_p = torch.nn.functional.softmax(batch_p, dim=-1)\n",
        "            batch_p = batch_p.detach().cpu().numpy()\n",
        "\n",
        "            # loop over candidates\n",
        "            candidates_next_depth = []  # storage for the depth-level candidates storing (path, value, index).\n",
        "            for i, c in enumerate(candidates):\n",
        "                c_path = c[\"path\"]\n",
        "                value_distribution = batch_p[i, :] # output logits for the given state\n",
        "                value_distribution *= c[\"value\"] # multiply the cumulative probability so far of the expanded path\n",
        "\n",
        "                for m, value in zip(env.moves_ix_inference, value_distribution): # iterate over all possible moves.\n",
        "                    # predicted value to expand the path with the given move.\n",
        "\n",
        "                    # Skip **physically** illegal moves (whether you like it or not)\n",
        "                    target_loc = np.where(c['state'].reshape(4, 4) == 0)\n",
        "                    if m==3: # if m==\"R\"\n",
        "                        if not target_loc[1]: # zero_index (empty slot) on the left\n",
        "                            continue\n",
        "                    elif m==1: # if m==\"D\"\n",
        "                        if not target_loc[0]: # on the top\n",
        "                            continue\n",
        "                    elif m==0: # if m==\"U\"\n",
        "                        if target_loc[0]==3: # on the bottom\n",
        "                            continue\n",
        "                    elif m==2: # if m==\"L\"\n",
        "                        if target_loc[1]==3: # on the right\n",
        "                            continue\n",
        "\n",
        "                    if c_path and skip_redundant_moves:\n",
        "                        # Two cancelling moves\n",
        "                        if env.pairing_ix[c_path[-1]] == m:\n",
        "                            continue\n",
        "\n",
        "                    # add to the next-depth candidates unless 'continue'd.\n",
        "                    candidates_next_depth.append({\n",
        "                        'state':deepcopy(c['state']),\n",
        "                        \"path\": c_path+[m],\n",
        "                        \"value\":value,\n",
        "                    })\n",
        "\n",
        "            # sort potential paths by expected values and renew as 'candidates'\n",
        "            candidates = sorted(candidates_next_depth, key=lambda item: -item['value'])\n",
        "            # if the number of candidates exceed that of beam width 'beam_width'\n",
        "            candidates = candidates[:beam_width]\n"
      ],
      "metadata": {
        "id": "lHPcDfSnfijx",
        "trusted": true
      },
      "execution_count": null,
      "outputs": []
    },
    {
      "cell_type": "markdown",
      "source": [
        "### Solve"
      ],
      "metadata": {
        "id": "7zbOlws3wNAI"
      }
    },
    {
      "cell_type": "code",
      "source": [
        "result_ours = {\n",
        "    \"solutions\":[],\n",
        "    \"num_nodes_generated\":[],\n",
        "    \"times\":[]\n",
        "}\n",
        "for scramble in tqdm(test_scrambles, position=0):\n",
        "    # reset and scramble\n",
        "    env.reset()\n",
        "    env.apply_scramble(scramble)\n",
        "    # solve\n",
        "    success, result = beam_search(env, model)\n",
        "    if success:\n",
        "        for k in result_ours.keys():\n",
        "            result_ours[k].append(result[k])\n",
        "    else:\n",
        "        result_ours[\"solutions\"].append(None)\n",
        "\n",
        "result_ours['solution_lengths'] = [len(e) for e in result_ours['solutions'] if e]\n",
        "result_ours['solution_lengths_count'] = {\n",
        "    i: result_ours[\"solution_lengths\"].count(i)\n",
        "    for i in range(min(result_ours[\"solution_lengths\"]), max(result_ours[\"solution_lengths\"]))\n",
        "}\n",
        "f\"Successfully solved {len(result_ours['times'])} cases out of {len(result_ours['solutions'])}\""
      ],
      "metadata": {
        "id": "4KnsiPonuWq0",
        "trusted": true
      },
      "execution_count": null,
      "outputs": []
    },
    {
      "cell_type": "code",
      "source": [
        "# Visualize result\n",
        "fig, ax = plt.subplots(2, 3, figsize=(16, 9))\n",
        "ax = ax.ravel()\n",
        "ax[0].set_ylabel(\"Frequency\")\n",
        "ax[1].set_xlabel(\"Number of nodes\")\n",
        "\n",
        "key_to_text = {\n",
        "    \"solution_lengths\":    \"Solution lengths\",\n",
        "    'num_nodes_generated': \"Number of nodes\",\n",
        "    \"times\":               \"Time (s)\",\n",
        "}\n",
        "\n",
        "for i, k in enumerate([\"solution_lengths\", \"num_nodes_generated\", \"times\"]):\n",
        "    v = result_ours[k]\n",
        "    if k==\"solution_lengths\":\n",
        "        v_count = result_ours['solution_lengths_count']\n",
        "        ax[i].bar(v_count.keys(), v_count.values(), width=1.0)\n",
        "    else:\n",
        "        ax[i].hist(v)\n",
        "    ax[i].axvline(np.mean(v), color=\"#00ffff\", label=f\"mean={np.mean(v):.3f}\")\n",
        "    ax[i].set_xlabel(key_to_text[k])\n",
        "    ax[i].legend()\n",
        "\n",
        "for i, (key_x, key_y) in enumerate([(\"solution_lengths\", \"num_nodes_generated\"), (\"num_nodes_generated\", \"times\"), (\"times\", \"solution_lengths\")]):\n",
        "    i += 3\n",
        "    x, y = [result_ours[k] for k in [key_x, key_y]]\n",
        "    ax[i].set_xlabel(key_to_text[key_x])\n",
        "    ax[i].set_ylabel(key_to_text[key_y])\n",
        "\n",
        "    x_range = np.linspace(0, max(x), 100)\n",
        "    coef = np.mean(np.squeeze(np.array(y) / np.array(x)))\n",
        "    ax[i].plot(x_range, x_range * coef, label=f\"slope={coef:.6f}\", color=\"#00ffff\")\n",
        "    ax[i].scatter(x, y)\n",
        "    ax[i].legend()\n",
        "\n",
        "plt.show()"
      ],
      "metadata": {
        "id": "orFapopwBQHs",
        "trusted": true
      },
      "execution_count": null,
      "outputs": []
    },
    {
      "cell_type": "markdown",
      "source": [
        "## Comparison to DeepCubeA"
      ],
      "metadata": {
        "id": "ADP7zZzKJr-m"
      }
    },
    {
      "cell_type": "markdown",
      "source": [
        "### Number of nodes vs. solution length"
      ],
      "metadata": {
        "id": "tFCy2rKkziW-"
      }
    },
    {
      "cell_type": "code",
      "source": [
        "left, width = 0.12, 0.75\n",
        "bottom, height = 0.1, 0.75\n",
        "spacing = 0.0\n",
        "\n",
        "rect_scatter = [left, bottom, width, height]\n",
        "rect_histx = [left, bottom + height, width, 0.1]\n",
        "rect_histy = [left + width, bottom, 0.1, height]\n",
        "\n",
        "fig = plt.figure(figsize=(7.5, 7.5))\n",
        "ax = fig.add_axes(rect_scatter)\n",
        "ax.set_xlabel(\"Number of nodes\")\n",
        "ax.set_ylabel(\"Solution length\")\n",
        "ax.set_xscale(\"log\")\n",
        "ax_histx = fig.add_axes(rect_histx, sharex=ax)\n",
        "ax_histy = fig.add_axes(rect_histy, sharey=ax)\n",
        "ax_histx.set_ylabel(\"Frequency\")\n",
        "ax_histy.set_xlabel(\"Frequency\")\n",
        "ax_histx.tick_params(axis=\"x\", labelbottom=False)\n",
        "ax_histy.tick_params(axis=\"y\", labelleft=False)\n",
        "\n",
        "ax.set_ylim(25, max(result_ours['solution_lengths_count']))\n",
        "ax_histy.set_ylim(25, max(result_ours['solution_lengths_count']))\n",
        "\n",
        "xmin, xmax = 1.75, 7.75\n",
        "ax.set_xlim(10**xmin, 10**xmax)\n",
        "ax_histx.set_xlim(10**xmin, 10**xmax)\n",
        "bins_x = np.logspace(xmin, xmax, 100)\n",
        "\n",
        "################################################################################\n",
        "\n",
        "key_x, key_y = \"num_nodes_generated\", \"solution_lengths\"\n",
        "\n",
        "for k, data in [(\"Optimal\", result_Optimal), (\"DeepCubeA\", result_DeepCubeA), (\"Ours\", result_ours)]:\n",
        "    x, y = data[key_x], data[key_y]\n",
        "    ax.scatter(x, y, s=10, alpha=0.3)\n",
        "    ax_histx.hist(x, bins=bins_x, alpha=0.7)\n",
        "\n",
        "for i, data in enumerate([result_Optimal, result_DeepCubeA, result_ours]):\n",
        "    data = data[\"solution_lengths_count\"]\n",
        "    ax_histy.barh(list(data.keys()), list(data.values()), height=1, alpha=0.7)\n",
        "\n",
        "ax_histy.axhline(np.mean(result_ours[key_y]), ls=\"--\", color=\"#EB4275\")\n",
        "ax.axhline(np.mean(result_ours[key_y]), ls=\"--\", color=\"#EB4275\")\n",
        "\n",
        "ax.plot(np.mean(result_Optimal[key_x]), np.mean(result_Optimal[key_y]),     \"x\", markersize=12, label=\"Optimal\")\n",
        "ax.plot(np.mean(result_DeepCubeA[key_x]), np.mean(result_DeepCubeA[key_y]), \"x\", markersize=12, label=\"DeepCubeA\")\n",
        "ax.plot(np.mean(result_ours[key_x]), np.mean(result_ours[key_y]),           \"x\", markersize=12, label=\"Ours\")\n",
        "ax.legend()\n",
        "\n",
        "plt.show()"
      ],
      "metadata": {
        "id": "zeKUE1rFznt5",
        "trusted": true
      },
      "execution_count": null,
      "outputs": []
    }
  ]
}